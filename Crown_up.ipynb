{
 "cells": [
  {
   "cell_type": "code",
   "execution_count": 3,
   "metadata": {},
   "outputs": [],
   "source": [
    "###### FInal Crown Awarding System\n",
    "#        \n",
    "#       |\\   /\\  /|\n",
    "#   h   | \\/   \\/ |\n",
    "#       |________|\n",
    "#       pt1  b   pt1\n",
    "#      x1,y1     x2,y2\n",
    "\n",
    "import cv2\n",
    "import numpy as np\n",
    "import matplotlib.pyplot as plt\n",
    "def draw_crown(img,pt1,pt2):\n",
    "    (x1,y1)=pt1\n",
    "    (x2,y2)=pt2\n",
    "    b=int(x2-x1)\n",
    "    h=int((2/3)*b)\n",
    "    # left peak\n",
    "    vertices=np.array([[x1,y1],[x1,y1-h],[x1+(b/2),y1]], dtype=np.int32 )\n",
    "    pts=vertices.reshape((-1,1,2))\n",
    "    img=cv2.fillPoly(img,[pts],(7, 205, 250))\n",
    "    # right peak\n",
    "    vertices=np.array([[x2,y2],[x2,y2-h],[x2-(b/2),y2]], dtype=np.int32 )\n",
    "    pts=vertices.reshape((-1,1,2))\n",
    "    img=cv2.fillPoly(img,[pts],(7, 205, 250))\n",
    "    # mid peak\n",
    "    vertices=np.array([[x1,y1],[x1+(b/2),((y1+y2)/2)-h],[x2,y2]], dtype=np.int32 )\n",
    "    pts=vertices.reshape((-1,1,2))\n",
    "    img=cv2.fillPoly(img,[pts],(7, 205, 250))\n",
    "    return img\n",
    "faceCascade = cv2.CascadeClassifier('../DATA/haarcascades/haarcascade_frontalface_default.xml')\n",
    "video_capture = cv2.VideoCapture(0)\n",
    "\n",
    "while True:\n",
    "    ret, frame = video_capture.read()\n",
    "\n",
    "    gray = cv2.cvtColor(frame, cv2.COLOR_BGR2GRAY)\n",
    "\n",
    "    faces = faceCascade.detectMultiScale(\n",
    "        gray,\n",
    "        scaleFactor=1.1,\n",
    "        minNeighbors=5,\n",
    "        minSize=(30, 30),\n",
    "        flags=cv2.CASCADE_SCALE_IMAGE\n",
    "    )\n",
    "    for (x, y, w, h) in faces:\n",
    "        pt1=(x,y)\n",
    "        pt2=(int(x+w),int(y))\n",
    "        frame=draw_crown(frame,pt1,pt2)\n",
    "    cv2.imshow('Video', frame)\n",
    "\n",
    "    if cv2.waitKey(1) & 0xFF == ord('q'):\n",
    "        break\n",
    "\n",
    "video_capture.release()\n",
    "cv2.destroyAllWindows()"
   ]
  },
  {
   "cell_type": "code",
   "execution_count": null,
   "metadata": {},
   "outputs": [],
   "source": []
  }
 ],
 "metadata": {
  "kernelspec": {
   "display_name": "Python 3",
   "language": "python",
   "name": "python3"
  },
  "language_info": {
   "codemirror_mode": {
    "name": "ipython",
    "version": 3
   },
   "file_extension": ".py",
   "mimetype": "text/x-python",
   "name": "python",
   "nbconvert_exporter": "python",
   "pygments_lexer": "ipython3",
   "version": "3.6.6"
  }
 },
 "nbformat": 4,
 "nbformat_minor": 2
}
