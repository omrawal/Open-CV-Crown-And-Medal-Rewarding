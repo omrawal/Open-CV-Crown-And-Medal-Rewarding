{
 "cells": [
  {
   "cell_type": "code",
   "execution_count": 1,
   "metadata": {},
   "outputs": [
    {
     "name": "stdin",
     "output_type": "stream",
     "text": [
      "0 for Gold\n",
      "1 for Silver\n",
      "2 for Bronze\n",
      " 2\n"
     ]
    }
   ],
   "source": [
    "###### FInal Medal Awarding System\n",
    "#flag==0 gold; 1== silver   2==bronze \n",
    "#              b\n",
    "#     x1,y1  ------ x2,y2\n",
    "#       a    \\  |h /  a\n",
    "#              \\|/\n",
    "\n",
    "#h=(2/3)*b\n",
    "#a=(1/2)(b^2+4(h^2))^(1/2)\n",
    "\n",
    "import cv2\n",
    "import numpy as np\n",
    "import matplotlib.pyplot as plt\n",
    "\n",
    "\n",
    "def draw_medal(img,pt1,pt2,flag):\n",
    "    (x1,y1)=pt1\n",
    "    (x2,y2)=pt2\n",
    "    color=(5, 215, 255)\n",
    "    if flag==0:\n",
    "        color=(5, 215, 255)\n",
    "    elif flag==1:\n",
    "        color=(192,192,192)\n",
    "    elif flag==2:\n",
    "        color=(7, 115, 247)\n",
    "    b=int(x2-x1)\n",
    "    h=int((2/3)*b)\n",
    "    a=int((1/2)*pow((b**2)+4*(h**2),(1/2)))\n",
    "    #line 1 left\n",
    "    p1=(x1,y1)\n",
    "    p2=(int(x1+b//2),int(y1+h))\n",
    "    cv2.line(img,p1,p2,(255,0,0),thickness=8)\n",
    "    #line 2 right\n",
    "    p1=(x2,y2)\n",
    "    p2=(int(x2-b//2),int(y2+h))\n",
    "    cv2.line(img,p1,p2,(255,0,0),thickness=8)\n",
    "    cv2.circle(img,p2,b//6,color,thickness=-1)\n",
    "#     img=cv2.cvtColor(img,cv2.COLOR_BGR2RGB)\n",
    "#     img=cv2.cvtColor(img,cv2.COLOR_GRAY2BGR)\n",
    "    return img\n",
    "\n",
    "\n",
    "faceCascade = cv2.CascadeClassifier('../DATA/haarcascades/haarcascade_frontalface_default.xml')\n",
    "flag=int(input('0 for Gold\\n1 for Silver\\n2 for Bronze\\n'))\n",
    "video_capture = cv2.VideoCapture(0)\n",
    "\n",
    "while True:\n",
    "    ret, frame = video_capture.read()\n",
    "\n",
    "    gray = cv2.cvtColor(frame, cv2.COLOR_BGR2GRAY)\n",
    "\n",
    "    faces = faceCascade.detectMultiScale(\n",
    "        gray,\n",
    "        scaleFactor=1.1,\n",
    "        minNeighbors=5,\n",
    "        minSize=(30, 30),\n",
    "        flags=cv2.CASCADE_SCALE_IMAGE\n",
    "    )\n",
    "    for (x, y, w, h) in faces:\n",
    "        pt1=(x,(y+h))\n",
    "        pt2=(int(x+w),int(y+h))\n",
    "        frame=draw_medal(frame,pt1,pt2,flag)\n",
    "    cv2.imshow('Video', frame)\n",
    "\n",
    "    if cv2.waitKey(1) & 0xFF == ord('q'):\n",
    "        break\n",
    "\n",
    "video_capture.release()\n",
    "cv2.destroyAllWindows()"
   ]
  }
 ],
 "metadata": {
  "kernelspec": {
   "display_name": "Python 3",
   "language": "python",
   "name": "python3"
  },
  "language_info": {
   "codemirror_mode": {
    "name": "ipython",
    "version": 3
   },
   "file_extension": ".py",
   "mimetype": "text/x-python",
   "name": "python",
   "nbconvert_exporter": "python",
   "pygments_lexer": "ipython3",
   "version": "3.6.6"
  }
 },
 "nbformat": 4,
 "nbformat_minor": 2
}
